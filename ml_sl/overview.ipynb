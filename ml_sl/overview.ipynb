{
 "cells": [
  {
   "cell_type": "markdown",
   "id": "aef853a5-39f8-4be6-b30b-f168c39243f4",
   "metadata": {},
   "source": [
    "# 監督式學習（Supervised Learning）概述"
   ]
  },
  {
   "cell_type": "markdown",
   "id": "10580622-5bb1-447e-bef6-29c7aae6332a",
   "metadata": {},
   "source": [
    "## 定義"
   ]
  },
  {
   "cell_type": "markdown",
   "id": "6a1d8b72-0a23-41e3-8e18-8cab9285bcc1",
   "metadata": {},
   "source": [
    "建構從解釋變數來預測目標變數的模型之手法。  \n",
    "在建構（訓練）模型的過程，在輸入解釋變數後，藉由調整模型的參數，使輸出的結果更接近目標變數。"
   ]
  },
  {
   "cell_type": "markdown",
   "id": "1dff3ecd-d321-4f6e-affc-8c2dc762aa6f",
   "metadata": {},
   "source": [
    "$\\star$ 解釋變數 ： 特徵量、預測變數、獨變數"
   ]
  },
  {
   "cell_type": "markdown",
   "id": "e24b0f1f-3c84-407e-a55e-b4900d7167ea",
   "metadata": {},
   "source": [
    "$\\star$ 目標變數 ： 正確解答資料、應變數、依變數"
   ]
  },
  {
   "cell_type": "markdown",
   "id": "8c643d4c-885e-4568-ad91-ba4526b08b5b",
   "metadata": {},
   "source": [
    "## 方法 ： "
   ]
  },
  {
   "cell_type": "markdown",
   "id": "c12389c4-fdc7-4cfb-89e8-8a45f83c8a38",
   "metadata": {},
   "source": [
    "### 1. 迴歸（Regression）"
   ]
  },
  {
   "cell_type": "markdown",
   "id": "1913c9b1-aa88-412c-ac21-c71975934a6b",
   "metadata": {},
   "source": [
    "- 一維線性模型\n",
    "- 二維平面模型\n",
    "- 多元線性迴歸（multiple linear regression）\n",
    "- Lasso Regression\n",
    "- Ridge Regression"
   ]
  },
  {
   "cell_type": "markdown",
   "id": "48a673e8-7a78-41f1-a777-aef9e2688907",
   "metadata": {},
   "source": [
    "### 2. 分類（Classification）"
   ]
  },
  {
   "cell_type": "markdown",
   "id": "5351bd54-61a2-4fc2-b1a4-f06c24a02cd7",
   "metadata": {},
   "source": [
    "- 邏輯迴歸（logistic regression）\n",
    "- k最近鄰演算法（k-nearest neighbors, k-NN）\n",
    "- 決策樹（decision tree）\n",
    "- 支援向量機（support vector machine, SVM）\n",
    "- 隨機森林（random forest）\n",
    "- 梯度提升（gradient boosting）"
   ]
  },
  {
   "cell_type": "code",
   "execution_count": null,
   "id": "868a4a0c-0d8f-4880-b9da-6d74fc301804",
   "metadata": {},
   "outputs": [],
   "source": []
  }
 ],
 "metadata": {
  "kernelspec": {
   "display_name": "Python 3",
   "language": "python",
   "name": "python3"
  },
  "language_info": {
   "codemirror_mode": {
    "name": "ipython",
    "version": 3
   },
   "file_extension": ".py",
   "mimetype": "text/x-python",
   "name": "python",
   "nbconvert_exporter": "python",
   "pygments_lexer": "ipython3",
   "version": "3.8.13"
  }
 },
 "nbformat": 4,
 "nbformat_minor": 5
}
